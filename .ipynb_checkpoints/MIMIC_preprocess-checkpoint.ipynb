{
 "cells": [
  {
   "cell_type": "code",
   "execution_count": 1,
   "id": "a74f91f2-4e47-4fb1-b6fa-c0a67c51dd2b",
   "metadata": {},
   "outputs": [],
   "source": [
    "import numpy as np\n",
    "import pandas as pd\n",
    "import os,sys"
   ]
  },
  {
   "cell_type": "code",
   "execution_count": 2,
   "id": "dc80d313-15f4-43a6-bc00-5849c5f5c217",
   "metadata": {},
   "outputs": [],
   "source": [
    "import re"
   ]
  },
  {
   "cell_type": "code",
   "execution_count": 3,
   "id": "91915aee-f62d-4cb0-a919-637aeb4861b5",
   "metadata": {},
   "outputs": [],
   "source": [
    "dir_root = '/nfs/turbo/med-kayvan-lab/Projects/HeartFailure/Data/Raw/physionet.org/files/mimic-iv-note/2.2/note'"
   ]
  },
  {
   "cell_type": "code",
   "execution_count": 4,
   "id": "86c137ab-6c7e-4401-a7e4-feef48a4ed17",
   "metadata": {},
   "outputs": [],
   "source": [
    "discharge = pd.read_csv(os.path.join(dir_root,'discharge.csv'))"
   ]
  },
  {
   "cell_type": "markdown",
   "id": "f08a013d-7b94-46c0-89fa-2e94cc70d25d",
   "metadata": {},
   "source": [
    "## Calcualte the average length of claims"
   ]
  },
  {
   "cell_type": "code",
   "execution_count": 6,
   "id": "eefbb3f4-36ea-4756-889c-6803dab0905e",
   "metadata": {},
   "outputs": [],
   "source": [
    "def rough_process(text):\n",
    "    p_text = text.replace('\\n' , '')\n",
    "    p_text = p_text.replace('  ' , '')\n",
    "    p_text = p_text.replace('___' , '')\n",
    "    return p_text\n",
    "\n",
    "# p rough_process(discharge['text'].iloc[0])"
   ]
  },
  {
   "cell_type": "code",
   "execution_count": 7,
   "id": "d6e4cbe1-c3f9-4435-ba95-459e5968b900",
   "metadata": {},
   "outputs": [],
   "source": [
    "discharge['rough'] = discharge['text'].apply(rough_process)"
   ]
  },
  {
   "cell_type": "code",
   "execution_count": 8,
   "id": "aa1bf361-028c-43d4-bceb-0e13367fb53a",
   "metadata": {},
   "outputs": [
    {
     "data": {
      "text/plain": [
       "9868.705968160968"
      ]
     },
     "execution_count": 8,
     "metadata": {},
     "output_type": "execute_result"
    }
   ],
   "source": [
    "discharge['rough'].apply(len).mean()"
   ]
  },
  {
   "cell_type": "markdown",
   "id": "e92ab04f-0884-4e19-8c41-3f722c789b48",
   "metadata": {},
   "source": [
    "## DRG extraction (Optional)"
   ]
  },
  {
   "cell_type": "code",
   "execution_count": 6,
   "id": "6cc4874b-2e95-4345-9671-114817f0b7fe",
   "metadata": {},
   "outputs": [
    {
     "data": {
      "text/plain": [
       "'https://github.com/hanyin88/DRG-LLaMA/blob/main/data/MIMIC_Preprocessing.py Can be used as one of the reference for text pre-processing, but it does little help\\n'"
      ]
     },
     "execution_count": 6,
     "metadata": {},
     "output_type": "execute_result"
    }
   ],
   "source": [
    "\"\"\"https://github.com/hanyin88/DRG-LLaMA/blob/main/data/MIMIC_Preprocessing.py Can be used as one of the reference for text pre-processing, but it does little help\n",
    "\"\"\""
   ]
  },
  {
   "cell_type": "markdown",
   "id": "06f9d5ab-7945-4a6f-9b45-8b9710934086",
   "metadata": {},
   "source": [
    "## Extract information useful for MEDIQA-CORR task"
   ]
  },
  {
   "cell_type": "code",
   "execution_count": 49,
   "id": "03fb5169-e1a4-4de2-a9a7-3010afbd0e57",
   "metadata": {},
   "outputs": [],
   "source": [
    "def generate_summary(text):\n",
    "    # Regular expressions for various sections\n",
    "    chief_complaint_pattern = re.compile(r\"Chief Complaint:\\n(.+?)\\n\")\n",
    "    history_pattern = re.compile(r\"History of Present Illness:\\n(.+?)\\n\")\n",
    "    medications_admission_pattern = re.compile(r\"Medications on Admission:\\n(.+?)\\n\")\n",
    "    discharge_medications_pattern = re.compile(r\"Discharge Medications:\\n(.+?)\\n\")\n",
    "    diagnosis_pattern = re.compile(r\"Discharge Diagnosis:\\n(.+?)\\n\")\n",
    "    \n",
    "    # Function to extract and format information\n",
    "    def extract_and_format(pattern, text, summary_index):\n",
    "        match = pattern.search(text)\n",
    "        return f\"{summary_index}. {match.group(1).strip()}\" if match else None\n",
    "    \n",
    "    # Extract information using defined patterns\n",
    "    summary = []\n",
    "    summary.append(extract_and_format(chief_complaint_pattern, text, 0))\n",
    "    summary.append(extract_and_format(history_pattern, text, 1))\n",
    "    summary.append(extract_and_format(medications_admission_pattern, text, 2))\n",
    "    summary.append(extract_and_format(discharge_medications_pattern, text, 3))\n",
    "    summary.append(extract_and_format(diagnosis_pattern, text, 4))\n",
    "    \n",
    "    # Filter out None values and join the summary\n",
    "    formatted_summary = \"\\n\".join(filter(None, summary))\n",
    "    return formatted_summary"
   ]
  },
  {
   "cell_type": "markdown",
   "id": "eb575d97-709d-46a1-a9c6-4f042233e06d",
   "metadata": {},
   "source": [
    "### chief complaint and gender"
   ]
  },
  {
   "cell_type": "code",
   "execution_count": 75,
   "id": "ad5909c9-773c-400f-abf5-020f5f06f335",
   "metadata": {},
   "outputs": [],
   "source": [
    "# chief complaint\n",
    "chief_complaint_pattern1 = re.compile(r\"Chief Complaint:\\n(.+?)\\n\")\n",
    "def find_complaints(note):\n",
    "    match = chief_complaint_pattern1.search(note)\n",
    "    if match:\n",
    "        return match.group(1).strip()\n",
    "    else:\n",
    "        return 'No chief complaint'"
   ]
  },
  {
   "cell_type": "code",
   "execution_count": 92,
   "id": "cbfb9e3e-ea58-490b-8655-7268a41f7b26",
   "metadata": {},
   "outputs": [],
   "source": [
    "gender_pattern = re.compile(r'Sex:\\s*(\\w)\\n')\n",
    "def find_gender(note):\n",
    "    match = gender_pattern.search(note)\n",
    "    if match:\n",
    "        return match.group(1).strip()\n",
    "    else:\n",
    "        return 'Not reported'"
   ]
  },
  {
   "cell_type": "markdown",
   "id": "b4d07334-91e1-429d-b3cd-9475ceb30292",
   "metadata": {},
   "source": [
    "### History of Present Illness:"
   ]
  },
  {
   "cell_type": "code",
   "execution_count": 254,
   "id": "c58234a1-2d0a-4f83-9a79-3468dae691b9",
   "metadata": {},
   "outputs": [],
   "source": [
    "def condense_text(text):\n",
    "    text = re.sub(r'\\s+', ' ', text)  \n",
    "    text = re.sub(r'\\n+', ' ', text)  \n",
    "    return text.strip()"
   ]
  },
  {
   "cell_type": "code",
   "execution_count": 255,
   "id": "cffd796b-8bf5-4754-8917-1cc7c44ac34e",
   "metadata": {},
   "outputs": [],
   "source": [
    "def find_history_present_illness(note):\n",
    "    history_pattern_1 = re.compile(r\"History of Present Illness:\\s*(.*?)(?=\\n\\s+\\nPast Medical History:)\", re.DOTALL)\n",
    "    history_pattern_2 = re.compile(r\"History of Present Illness:\\s*(.*?)(?=\\nREVIEW OF SYSTEMS:)\", re.DOTALL)\n",
    "\n",
    "    if re.search(history_pattern_2, note):\n",
    "        matched = re.search(history_pattern_2, note).group(1)\n",
    "    elif re.search(history_pattern_1, note):\n",
    "        matched = re.search(history_pattern_1, note).group(1)\n",
    "    else:\n",
    "        matched = None\n",
    "    if matched:\n",
    "        text = matched.strip()\n",
    "        text = condense_text(text)\n",
    "        # text = text.replace('___','')\n",
    "        return text\n",
    "    else:\n",
    "        return 'Not reported'"
   ]
  },
  {
   "cell_type": "code",
   "execution_count": 256,
   "id": "fd635150-c1e2-4e4d-9419-df4a6663367a",
   "metadata": {},
   "outputs": [
    {
     "name": "stdout",
     "output_type": "stream",
     "text": [
      "Ms. ___ is a ___ y/o woman with a past medical history of MS, and a right parietal brain abscess which was discovered approxiamtely one month ago, when she presented with left arm and face numbness. The abscess was drained in the OR on ___, and she was initially started on broad spectrum antibiotics until culture data returned with S. anginosus and fusobacterium, she was then transitioned to Ceftriaxone 2g IV q12h, and flagyl 500mg TID, which she has been on since through her PICC line. On ___, she was seen in ___ clinic and a repeat MRI was performed which revealed increased edema with persistent ring enhancing abnormality at the right parietal surgical site, concerning for ongoing abscess. She was therefore scheduled for repeat drainage on ___. She was seen as an outpatient in the infectious disease office today, ___, and it was recommended that she be admitted to the hospital one day early for broadening of her antibiotic regimen prior to drainage. She states that over the past month, her symptoms, including left upper extremity weakness and numbness, have come and gone, although she thinks that overall they have worsened slightly. She denies any fevers/chills, or headaches. No changes in vision, leg weakness or trouble with coordination or balance. She denies shortness of breath, chest pain, abdominal pain.\n"
     ]
    }
   ],
   "source": [
    "print(find_history_present_illness(discharge['text'].iloc[30]))"
   ]
  },
  {
   "cell_type": "markdown",
   "id": "7517440f-d043-4bd3-8213-e0710768ab31",
   "metadata": {},
   "source": [
    "### vital signs"
   ]
  },
  {
   "cell_type": "code",
   "execution_count": 49,
   "id": "e9288097-5773-4464-8bf4-82f6b75d41ca",
   "metadata": {},
   "outputs": [],
   "source": [
    "# vital signs\n",
    "vital_sign_pattern1 = re.compile(r\"\\nVS(.+?)\\n\")\n",
    "vital_sign_pattern2 = re.compile(r\"\\nVitals(.+?)\\n\")\n",
    "vital_sign_pattern3 = re.compile(r\"\\nPhysical Exam:\\nO:(.+?)\\n\")\n",
    "vital_sign_pattern4 = re.compile(r\"\\nPHYSICAL EXAM ON ADMISSION:\\nO:(.+?)\\n\")\n",
    "\n",
    "def customize_BP(string):\n",
    "    bp_pattern = re.compile(r'\\d+\\s*/\\s*\\d+')\n",
    "    bp_readings = bp_pattern.findall(string)\n",
    "    for bp in bp_readings:\n",
    "        string = string.replace(bp, \"BP_PLACEHOLDER\")\n",
    "    splits = string.split()\n",
    "    for i, s in enumerate(splits):\n",
    "        if 'BP_PLACEHOLDER' in s:\n",
    "            splits[i] = bp_readings.pop(0)\n",
    "    return splits\n",
    "\n",
    "def find_vitals(note):\n",
    "    if re.search(vital_sign_pattern1, note):\n",
    "        matched = re.search(vital_sign_pattern1, note).group(1)\n",
    "        splits = 1\n",
    "    elif re.search(vital_sign_pattern2, note):\n",
    "        matched = re.search(vital_sign_pattern2, note).group(1)\n",
    "        splits = 2\n",
    "    elif re.search(vital_sign_pattern3, note):\n",
    "        matched = re.search(vital_sign_pattern3, note).group(1)\n",
    "        splits = 3\n",
    "    elif re.search(vital_sign_pattern4, note):\n",
    "        matched = re.search(vital_sign_pattern4, note).group(1)\n",
    "        splits = 4\n",
    "    else:\n",
    "        splits = None\n",
    "    if splits:\n",
    "        splits = customize_BP(matched)\n",
    "        splits = [s for s in splits if 'O2' not in s ]\n",
    "        splits = [s for s in splits if re.search(r'\\d+|\\d+/\\d+', s)]\n",
    "        splits = [re.sub(r'[a-zA-Z]', '', s) for s in splits]\n",
    "        pattern = re.compile(r'[^\\w/\\.]|_')\n",
    "        splits = [pattern.sub('', s) for s in splits]\n",
    "        return f'The Temperature is {splits[0]}, BP is {splits[1]}, HR is {splits[2]}, RR is {splits[3]}, SpO2 is {splits[4]}.'\n",
    "    else:\n",
    "        return 'No vital signs at admission date'"
   ]
  },
  {
   "cell_type": "code",
   "execution_count": 50,
   "id": "cb8efe29-eb4f-4ad3-b2ea-e44469022f74",
   "metadata": {},
   "outputs": [
    {
     "name": "stdout",
     "output_type": "stream",
     "text": [
      "The Temperature is 98.1, BP is 107/61, HR is 78, RR is 18, SpO2 is 97.\n",
      "The Temperature is 98.1, BP is 105/57, HR is 79, RR is 20, SpO2 is 97.\n",
      "The Temperature is 98.7, BP is 84/48, HR is 91, RR is 24, SpO2 is 98.\n",
      "The Temperature is 97, BP is 98/65, HR is 103, RR is 18, SpO2 is 94.\n",
      "No vital signs at admission date\n"
     ]
    }
   ],
   "source": [
    "for i in range(5):\n",
    "    print(find_vitals(discharge['text'].iloc[i]))"
   ]
  },
  {
   "cell_type": "markdown",
   "id": "f49464bc-47b4-4e59-9fad-088bf3e19c2f",
   "metadata": {},
   "source": [
    "### main diagnosis"
   ]
  },
  {
   "cell_type": "code",
   "execution_count": 10,
   "id": "f1484e8c-6bf8-49de-9df3-7be41ca907f1",
   "metadata": {},
   "outputs": [],
   "source": [
    "def condense_text(text):\n",
    "    text = re.sub(r'\\=+', '', text)\n",
    "    text = re.sub(r'\\n\\n', '. ', text) \n",
    "    text = re.sub(r'(?<!:)\\n', ', ', text) \n",
    "    text = re.sub(r'\\n', ' ', text) \n",
    "    text = re.sub(r'\\-|_', '', text) \n",
    "    return text.strip()"
   ]
  },
  {
   "cell_type": "code",
   "execution_count": 37,
   "id": "55c7e336-acd3-4921-877e-da3d629b90ab",
   "metadata": {},
   "outputs": [],
   "source": [
    "def find_diagnosis(note):\n",
    "    diagnosis_pattern1 = re.compile(r\"Discharge Diagnosis:\\n(.*?)\\n\\s+\\nDischarge Condition:\", re.DOTALL)\n",
    "    primary_diagnosis_pattern1 = r'Primary:\\s*([^,]+)'\n",
    "    primary_diagnosis_pattern2 = r'PRIMARY DIAGNOSIS[:.]\\s*([^,\\.]+)'\n",
    "\n",
    "    matched = re.search(diagnosis_pattern1, note)\n",
    "    if matched:\n",
    "        text = matched.group(1).strip()\n",
    "\n",
    "        # Assuming condense_text is a predefined function\n",
    "        text = condense_text(text)\n",
    "\n",
    "        primary_diagnosis = None\n",
    "        if re.search(primary_diagnosis_pattern1, text, re.IGNORECASE):\n",
    "            primary_diagnosis = re.search(primary_diagnosis_pattern1, text, re.IGNORECASE)\n",
    "        elif re.search(primary_diagnosis_pattern2, text, re.IGNORECASE):\n",
    "            primary_diagnosis = re.search(primary_diagnosis_pattern2, text, re.IGNORECASE)\n",
    "\n",
    "        primary_diagnosis_match = primary_diagnosis.group(1) if primary_diagnosis else text\n",
    "        return primary_diagnosis_match\n",
    "    else:\n",
    "        return 'Not found!'"
   ]
  },
  {
   "cell_type": "code",
   "execution_count": 45,
   "id": "5000a2e0-1e16-4c80-9398-1bb67b96ce6f",
   "metadata": {},
   "outputs": [],
   "source": [
    "discharge['primary_diagnosis'] = discharge['text'].apply(find_diagnosis)"
   ]
  },
  {
   "cell_type": "code",
   "execution_count": 54,
   "id": "8275dabf-f42c-4892-852d-68aa8e44a619",
   "metadata": {},
   "outputs": [
    {
     "name": "stdout",
     "output_type": "stream",
     "text": [
      "0\n",
      "Ascites from Portal HTN\n",
      "===========================\n",
      "1\n",
      "diuretic refractory ascites\n",
      "===========================\n",
      "2\n",
      "Hypotension\n",
      "===========================\n",
      "3\n",
      "Decompensated HCV cirrhosis\n",
      "===========================\n"
     ]
    }
   ],
   "source": [
    "for i in range(4):\n",
    "    print(i)\n",
    "    print(find_diagnosis(discharge['text'].iloc[i]))\n",
    "    print('===========================')"
   ]
  },
  {
   "cell_type": "code",
   "execution_count": 48,
   "id": "f0f45c80-74e7-4e3b-b06d-0f5724777f4c",
   "metadata": {},
   "outputs": [
    {
     "data": {
      "text/html": [
       "<div>\n",
       "<style scoped>\n",
       "    .dataframe tbody tr th:only-of-type {\n",
       "        vertical-align: middle;\n",
       "    }\n",
       "\n",
       "    .dataframe tbody tr th {\n",
       "        vertical-align: top;\n",
       "    }\n",
       "\n",
       "    .dataframe thead th {\n",
       "        text-align: right;\n",
       "    }\n",
       "</style>\n",
       "<table border=\"1\" class=\"dataframe\">\n",
       "  <thead>\n",
       "    <tr style=\"text-align: right;\">\n",
       "      <th></th>\n",
       "      <th>note_id</th>\n",
       "      <th>subject_id</th>\n",
       "      <th>hadm_id</th>\n",
       "      <th>note_type</th>\n",
       "      <th>note_seq</th>\n",
       "      <th>charttime</th>\n",
       "      <th>storetime</th>\n",
       "      <th>text</th>\n",
       "      <th>primary_diagnosis</th>\n",
       "    </tr>\n",
       "  </thead>\n",
       "  <tbody>\n",
       "    <tr>\n",
       "      <th>0</th>\n",
       "      <td>10000032-DS-21</td>\n",
       "      <td>10000032</td>\n",
       "      <td>22595853</td>\n",
       "      <td>DS</td>\n",
       "      <td>21</td>\n",
       "      <td>2180-05-07 00:00:00</td>\n",
       "      <td>2180-05-09 15:26:00</td>\n",
       "      <td>\\nName:  ___                     Unit No:   _...</td>\n",
       "      <td>Ascites from Portal HTN</td>\n",
       "    </tr>\n",
       "    <tr>\n",
       "      <th>1</th>\n",
       "      <td>10000032-DS-22</td>\n",
       "      <td>10000032</td>\n",
       "      <td>22841357</td>\n",
       "      <td>DS</td>\n",
       "      <td>22</td>\n",
       "      <td>2180-06-27 00:00:00</td>\n",
       "      <td>2180-07-01 10:15:00</td>\n",
       "      <td>\\nName:  ___                     Unit No:   _...</td>\n",
       "      <td>diuretic refractory ascites</td>\n",
       "    </tr>\n",
       "  </tbody>\n",
       "</table>\n",
       "</div>"
      ],
      "text/plain": [
       "          note_id  subject_id   hadm_id note_type  note_seq  \\\n",
       "0  10000032-DS-21    10000032  22595853        DS        21   \n",
       "1  10000032-DS-22    10000032  22841357        DS        22   \n",
       "\n",
       "             charttime            storetime  \\\n",
       "0  2180-05-07 00:00:00  2180-05-09 15:26:00   \n",
       "1  2180-06-27 00:00:00  2180-07-01 10:15:00   \n",
       "\n",
       "                                                text  \\\n",
       "0   \\nName:  ___                     Unit No:   _...   \n",
       "1   \\nName:  ___                     Unit No:   _...   \n",
       "\n",
       "             primary_diagnosis  \n",
       "0      Ascites from Portal HTN  \n",
       "1  diuretic refractory ascites  "
      ]
     },
     "execution_count": 48,
     "metadata": {},
     "output_type": "execute_result"
    }
   ],
   "source": [
    "discharge.head(2)"
   ]
  },
  {
   "cell_type": "code",
   "execution_count": 49,
   "id": "231fdf3e-c4a2-4ff7-8ae2-2b40bb726646",
   "metadata": {},
   "outputs": [],
   "source": [
    "discharge_subset = discharge[['note_id','subject_id','hadm_id','primary_diagnosis']]"
   ]
  },
  {
   "cell_type": "code",
   "execution_count": 51,
   "id": "1f134702-59fb-4f1b-acd0-5c393179b8d9",
   "metadata": {},
   "outputs": [],
   "source": [
    "discharge_subset.to_csv('data_temp/primary_diagnosis.csv')"
   ]
  },
  {
   "cell_type": "code",
   "execution_count": 53,
   "id": "49d1bcfe-32e0-49b1-af2a-bb88d4bcbdf1",
   "metadata": {},
   "outputs": [
    {
     "name": "stdout",
     "output_type": "stream",
     "text": [
      "<class 'pandas.core.frame.DataFrame'>\n",
      "RangeIndex: 331794 entries, 0 to 331793\n",
      "Data columns (total 4 columns):\n",
      " #   Column             Non-Null Count   Dtype \n",
      "---  ------             --------------   ----- \n",
      " 0   note_id            331794 non-null  object\n",
      " 1   subject_id         331794 non-null  int64 \n",
      " 2   hadm_id            331794 non-null  int64 \n",
      " 3   primary_diagnosis  331794 non-null  object\n",
      "dtypes: int64(2), object(2)\n",
      "memory usage: 66.1 MB\n"
     ]
    }
   ],
   "source": [
    "discharge_subset.info(memory_usage='deep')"
   ]
  },
  {
   "cell_type": "code",
   "execution_count": null,
   "id": "79af5412-d08f-4f45-b1a0-3e51765f0cd4",
   "metadata": {},
   "outputs": [],
   "source": []
  }
 ],
 "metadata": {
  "kernelspec": {
   "display_name": "torchsrh",
   "language": "python",
   "name": "torchsrh"
  },
  "language_info": {
   "codemirror_mode": {
    "name": "ipython",
    "version": 3
   },
   "file_extension": ".py",
   "mimetype": "text/x-python",
   "name": "python",
   "nbconvert_exporter": "python",
   "pygments_lexer": "ipython3",
   "version": "3.11.7"
  }
 },
 "nbformat": 4,
 "nbformat_minor": 5
}
